{
 "cells": [
  {
   "cell_type": "markdown",
   "id": "905c0114-b330-4877-b8fb-7a54cb169c57",
   "metadata": {},
   "source": [
    "# Make the rd file for the SXDS example table\n",
    "\n",
    "This is an early test table to include the gen 2 p2021.1 run on the Soton VO.\n",
    "\n",
    "\n",
    "We need to create all the column descriptors and set the table name and other features."
   ]
  },
  {
   "cell_type": "code",
   "execution_count": 48,
   "id": "493c0b30-51cc-4d7f-a137-3df8a26e3a13",
   "metadata": {},
   "outputs": [],
   "source": [
    "from astropy.table import Table\n",
    "from astropy.time import Time\n",
    "import astropy.units as u\n",
    "import numpy as np"
   ]
  },
  {
   "cell_type": "raw",
   "id": "1ef6e69c-7c94-49a9-8e8c-5ab32ec44f58",
   "metadata": {},
   "source": [
    "time_now=Time.now().isot\n",
    "time_now"
   ]
  },
  {
   "cell_type": "code",
   "execution_count": 3,
   "id": "f19945f7-3491-4be6-9fe9-f378f77dd751",
   "metadata": {},
   "outputs": [
    {
     "name": "stdout",
     "output_type": "stream",
     "text": [
      "total 34456128\n",
      "drwxr-xr-x@ 22 raphaelshirley  staff         704 21 Jul 15:44 \u001b[34m.\u001b[m\u001b[m\n",
      "drwxr-xr-x@ 21 raphaelshirley  staff         672 25 Jul 11:15 \u001b[34m..\u001b[m\u001b[m\n",
      "-rw-r--r--   1 raphaelshirley  staff     7654209 12 Apr 17:35 3.0_startCoadd.slurm.e58711243\n",
      "drwxr-sr-x   6 raphaelshirley  staff         192  6 Apr 18:38 \u001b[34m39\u001b[m\u001b[m\n",
      "drwxr-sr-x   6 raphaelshirley  staff         192  6 Apr 18:29 \u001b[34m48\u001b[m\u001b[m\n",
      "drwxr-sr-x   3 raphaelshirley  staff          96  8 Apr 14:57 \u001b[34m66\u001b[m\u001b[m\n",
      "-rw-r--r--@  1 raphaelshirley  staff    27020160  1 Jul  2021 8523_5,2_reducedCat.fits\n",
      "-rw-r--r--@  1 raphaelshirley  staff   144984960  4 May 19:13 VSA_Ks_6.fits\n",
      "-rw-r--r--@  1 raphaelshirley  staff   127722240  1 Jul  2021 calexp-HSC-R-8524-2,7.fits\n",
      "-rw-r--r--@  1 raphaelshirley  staff   359714880  1 Jul  2021 calexp-VISTA-Y-8524-2,7.fits\n",
      "-rw-r--r--@  1 raphaelshirley  staff    56338560  5 May 17:42 deepCoadd_calexp_8524_48_K_hscPdr2_u_ir-shir1_DRP_videoCoaddDetect_20220405T133706Z.fits\n",
      "-rw-r--r--@  1 raphaelshirley  staff   142960320  5 May 17:53 deepCoadd_calexp_8524_48_K_hscPdr2_u_ir-shir1_DRP_videoCoadd_20220411T145237Z.fits\n",
      "drwxr-sr-x  22 raphaelshirley  staff         704 13 Jun 11:49 \u001b[34mexample\u001b[m\u001b[m\n",
      "-rw-r--r--   1 raphaelshirley  staff  6313144320  3 May 17:27 full_reduced_cat_SXDS_p2021_1.fits\n",
      "-rw-r--r--   1 raphaelshirley  staff  3981101760  3 May 17:19 full_reduced_cat_SXDS_p2021_1_20210702.fits\n",
      "-rw-r--r--   1 raphaelshirley  staff  5899138560  5 May 17:12 full_reduced_cat_SXDS_p2022.1_20220428.fits\n",
      "-rw-r--r--@  1 raphaelshirley  staff   581471577 21 Jul 15:27 full_reduced_cat_SXDS_p2022.1_20220721.fits.gz\n",
      "-rw-r--r--@  1 raphaelshirley  staff       69990 11 Apr 10:43 u_ir-shir1_DRP_singleFrame_20220317T193549Z_2022-03-17_21:12.png\n",
      "-rw-r--r--@  1 raphaelshirley  staff       48992 12 Apr 11:06 u_ir-shir1_DRP_videoCoadd_20220407T164547Z_2022-04-07_18:40.png\n",
      "-rw-r--r--@  1 raphaelshirley  staff       28437 12 Apr 15:55 u_ir-shir1_DRP_videoCoadd_20220411T145237Z_2022-04-11_16:55.png\n",
      "-rw-r--r--@  1 raphaelshirley  staff       42511 14 Apr 14:55 u_ir-shir1_DRP_videoCoadd_20220411T145237Z_2022-04-13_16:09.png\n",
      "-rw-r--r--@  1 raphaelshirley  staff       66986 21 Apr 18:27 u_ir-shir1_DRP_videoMultiVisit3_20220420T134201Z_2022-04-20_14:49.png\n"
     ]
    }
   ],
   "source": [
    "!ls -al ../../lsst-ir-fusion/dmu5/dmu5_VIDEO/data"
   ]
  },
  {
   "cell_type": "code",
   "execution_count": 6,
   "id": "a7a999c1-e74f-4e63-b445-4eaaff3eac8f",
   "metadata": {},
   "outputs": [],
   "source": [
    "!mkdir descriptors"
   ]
  },
  {
   "cell_type": "code",
   "execution_count": 14,
   "id": "2fa113c4-28fb-46d2-8a7d-ecb3b0cb2ecf",
   "metadata": {},
   "outputs": [],
   "source": [
    "t=Table.read('../../lsst-ir-fusion/dmu5/dmu5_VIDEO/data/full_reduced_cat_SXDS_p2021_1_20210702.fits')"
   ]
  },
  {
   "cell_type": "code",
   "execution_count": 15,
   "id": "e5b7676a-8dc6-4857-994c-94cf9576d00b",
   "metadata": {},
   "outputs": [
    {
     "data": {
      "text/plain": [
       "3119931"
      ]
     },
     "execution_count": 15,
     "metadata": {},
     "output_type": "execute_result"
    }
   ],
   "source": [
    "len(t)"
   ]
  },
  {
   "cell_type": "code",
   "execution_count": 51,
   "id": "a966c6af-0799-4aa0-8eb6-9453fba8922b",
   "metadata": {},
   "outputs": [
    {
     "data": {
      "text/html": [
       "<div><i>Table length=5</i>\n",
       "<table id=\"table140315524615664\" class=\"table-striped table-bordered table-condensed\">\n",
       "<thead><tr><th>id</th><th>VISTA_Z_m_slot_ModelFlux_magErr</th><th>VISTA_Z_m_slot_ModelFlux_mag</th><th>VISTA_Z_m_slot_ModelFlux_fluxErr</th><th>VISTA_Z_m_slot_ModelFlux_flux</th><th>VISTA_Z_m_slot_ModelFlux_flag</th><th>VISTA_Z_m_base_PsfFlux_magErr</th><th>VISTA_Z_m_base_PsfFlux_mag</th><th>VISTA_Z_m_base_PsfFlux_fluxErr</th><th>VISTA_Z_m_base_PsfFlux_flux</th><th>VISTA_Z_m_base_PsfFlux_flag</th><th>VISTA_Z_m_base_CircularApertureFlux_6_0_magErr</th><th>VISTA_Z_m_base_CircularApertureFlux_6_0_mag</th><th>VISTA_Z_m_base_CircularApertureFlux_6_0_fluxErr</th><th>VISTA_Z_m_base_CircularApertureFlux_6_0_flux</th><th>VISTA_Z_m_base_CircularApertureFlux_6_0_flag</th><th>VISTA_Y_m_slot_ModelFlux_magErr</th><th>VISTA_Y_m_slot_ModelFlux_mag</th><th>VISTA_Y_m_slot_ModelFlux_fluxErr</th><th>VISTA_Y_m_slot_ModelFlux_flux</th><th>VISTA_Y_m_slot_ModelFlux_flag</th><th>VISTA_Y_m_base_PsfFlux_magErr</th><th>VISTA_Y_m_base_PsfFlux_mag</th><th>VISTA_Y_m_base_PsfFlux_fluxErr</th><th>VISTA_Y_m_base_PsfFlux_flux</th><th>VISTA_Y_m_base_PsfFlux_flag</th><th>VISTA_Y_m_base_CircularApertureFlux_6_0_magErr</th><th>VISTA_Y_m_base_CircularApertureFlux_6_0_mag</th><th>VISTA_Y_m_base_CircularApertureFlux_6_0_fluxErr</th><th>VISTA_Y_m_base_CircularApertureFlux_6_0_flux</th><th>VISTA_Y_m_base_CircularApertureFlux_6_0_flag</th><th>VISTA_Ks_m_slot_ModelFlux_magErr</th><th>VISTA_Ks_m_slot_ModelFlux_mag</th><th>VISTA_Ks_m_slot_ModelFlux_fluxErr</th><th>VISTA_Ks_m_slot_ModelFlux_flux</th><th>VISTA_Ks_m_slot_ModelFlux_flag</th><th>VISTA_Ks_m_merge_peak_sky</th><th>VISTA_Ks_m_detect_isTractInner</th><th>VISTA_Ks_m_detect_isPrimary</th><th>VISTA_Ks_m_detect_isPatchInner</th><th>VISTA_Ks_m_deblend_nChild</th><th>VISTA_Ks_m_coord_ra</th><th>VISTA_Ks_m_coord_dec</th><th>VISTA_Ks_m_base_PsfFlux_magErr</th><th>VISTA_Ks_m_base_PsfFlux_mag</th><th>VISTA_Ks_m_base_PsfFlux_fluxErr</th><th>VISTA_Ks_m_base_PsfFlux_flux</th><th>VISTA_Ks_m_base_PsfFlux_flag</th><th>VISTA_Ks_m_base_ClassificationExtendedness_value</th><th>VISTA_Ks_m_base_ClassificationExtendedness_flag</th><th>VISTA_Ks_m_base_CircularApertureFlux_6_0_magErr</th><th>VISTA_Ks_m_base_CircularApertureFlux_6_0_mag</th><th>VISTA_Ks_m_base_CircularApertureFlux_6_0_fluxErr</th><th>VISTA_Ks_m_base_CircularApertureFlux_6_0_flux</th><th>VISTA_Ks_m_base_CircularApertureFlux_6_0_flag</th><th>VISTA_J_m_slot_ModelFlux_magErr</th><th>VISTA_J_m_slot_ModelFlux_mag</th><th>VISTA_J_m_slot_ModelFlux_fluxErr</th><th>VISTA_J_m_slot_ModelFlux_flux</th><th>VISTA_J_m_slot_ModelFlux_flag</th><th>VISTA_J_m_base_PsfFlux_magErr</th><th>VISTA_J_m_base_PsfFlux_mag</th><th>VISTA_J_m_base_PsfFlux_fluxErr</th><th>VISTA_J_m_base_PsfFlux_flux</th><th>VISTA_J_m_base_PsfFlux_flag</th><th>VISTA_J_m_base_CircularApertureFlux_6_0_magErr</th><th>VISTA_J_m_base_CircularApertureFlux_6_0_mag</th><th>VISTA_J_m_base_CircularApertureFlux_6_0_fluxErr</th><th>VISTA_J_m_base_CircularApertureFlux_6_0_flux</th><th>VISTA_J_m_base_CircularApertureFlux_6_0_flag</th><th>VISTA_H_m_slot_ModelFlux_magErr</th><th>VISTA_H_m_slot_ModelFlux_mag</th><th>VISTA_H_m_slot_ModelFlux_fluxErr</th><th>VISTA_H_m_slot_ModelFlux_flux</th><th>VISTA_H_m_slot_ModelFlux_flag</th><th>VISTA_H_m_base_PsfFlux_magErr</th><th>VISTA_H_m_base_PsfFlux_mag</th><th>VISTA_H_m_base_PsfFlux_fluxErr</th><th>VISTA_H_m_base_PsfFlux_flux</th><th>VISTA_H_m_base_PsfFlux_flag</th><th>VISTA_H_m_base_CircularApertureFlux_6_0_magErr</th><th>VISTA_H_m_base_CircularApertureFlux_6_0_mag</th><th>VISTA_H_m_base_CircularApertureFlux_6_0_fluxErr</th><th>VISTA_H_m_base_CircularApertureFlux_6_0_flux</th><th>VISTA_H_m_base_CircularApertureFlux_6_0_flag</th><th>HSC_Z_m_slot_ModelFlux_magErr</th><th>HSC_Z_m_slot_ModelFlux_mag</th><th>HSC_Z_m_slot_ModelFlux_fluxErr</th><th>HSC_Z_m_slot_ModelFlux_flux</th><th>HSC_Z_m_slot_ModelFlux_flag</th><th>HSC_Z_m_base_PsfFlux_magErr</th><th>HSC_Z_m_base_PsfFlux_mag</th><th>HSC_Z_m_base_PsfFlux_fluxErr</th><th>HSC_Z_m_base_PsfFlux_flux</th><th>HSC_Z_m_base_PsfFlux_flag</th><th>HSC_Z_m_base_CircularApertureFlux_6_0_magErr</th><th>HSC_Z_m_base_CircularApertureFlux_6_0_mag</th><th>HSC_Z_m_base_CircularApertureFlux_6_0_fluxErr</th><th>HSC_Z_m_base_CircularApertureFlux_6_0_flux</th><th>HSC_Z_m_base_CircularApertureFlux_6_0_flag</th><th>HSC_Y_m_slot_ModelFlux_magErr</th><th>HSC_Y_m_slot_ModelFlux_mag</th><th>HSC_Y_m_slot_ModelFlux_fluxErr</th><th>HSC_Y_m_slot_ModelFlux_flux</th><th>HSC_Y_m_slot_ModelFlux_flag</th><th>HSC_Y_m_base_PsfFlux_magErr</th><th>HSC_Y_m_base_PsfFlux_mag</th><th>HSC_Y_m_base_PsfFlux_fluxErr</th><th>HSC_Y_m_base_PsfFlux_flux</th><th>HSC_Y_m_base_PsfFlux_flag</th><th>HSC_Y_m_base_CircularApertureFlux_6_0_magErr</th><th>HSC_Y_m_base_CircularApertureFlux_6_0_mag</th><th>HSC_Y_m_base_CircularApertureFlux_6_0_fluxErr</th><th>HSC_Y_m_base_CircularApertureFlux_6_0_flux</th><th>HSC_Y_m_base_CircularApertureFlux_6_0_flag</th><th>HSC_R_m_slot_ModelFlux_magErr</th><th>HSC_R_m_slot_ModelFlux_mag</th><th>HSC_R_m_slot_ModelFlux_fluxErr</th><th>HSC_R_m_slot_ModelFlux_flux</th><th>HSC_R_m_slot_ModelFlux_flag</th><th>HSC_R_m_base_PsfFlux_magErr</th><th>HSC_R_m_base_PsfFlux_mag</th><th>HSC_R_m_base_PsfFlux_fluxErr</th><th>HSC_R_m_base_PsfFlux_flux</th><th>HSC_R_m_base_PsfFlux_flag</th><th>HSC_R_m_base_CircularApertureFlux_6_0_magErr</th><th>HSC_R_m_base_CircularApertureFlux_6_0_mag</th><th>HSC_R_m_base_CircularApertureFlux_6_0_fluxErr</th><th>HSC_R_m_base_CircularApertureFlux_6_0_flux</th><th>HSC_R_m_base_CircularApertureFlux_6_0_flag</th><th>HSC_I_m_slot_ModelFlux_magErr</th><th>HSC_I_m_slot_ModelFlux_mag</th><th>HSC_I_m_slot_ModelFlux_fluxErr</th><th>HSC_I_m_slot_ModelFlux_flux</th><th>HSC_I_m_slot_ModelFlux_flag</th><th>HSC_I_m_base_PsfFlux_magErr</th><th>HSC_I_m_base_PsfFlux_mag</th><th>HSC_I_m_base_PsfFlux_fluxErr</th><th>HSC_I_m_base_PsfFlux_flux</th><th>HSC_I_m_base_PsfFlux_flag</th><th>HSC_I_m_base_CircularApertureFlux_6_0_magErr</th><th>HSC_I_m_base_CircularApertureFlux_6_0_mag</th><th>HSC_I_m_base_CircularApertureFlux_6_0_fluxErr</th><th>HSC_I_m_base_CircularApertureFlux_6_0_flux</th><th>HSC_I_m_base_CircularApertureFlux_6_0_flag</th><th>HSC_G_m_slot_ModelFlux_magErr</th><th>HSC_G_m_slot_ModelFlux_mag</th><th>HSC_G_m_slot_ModelFlux_fluxErr</th><th>HSC_G_m_slot_ModelFlux_flux</th><th>HSC_G_m_slot_ModelFlux_flag</th><th>HSC_G_m_base_PsfFlux_magErr</th><th>HSC_G_m_base_PsfFlux_mag</th><th>HSC_G_m_base_PsfFlux_fluxErr</th><th>HSC_G_m_base_PsfFlux_flux</th><th>HSC_G_m_base_PsfFlux_flag</th><th>HSC_G_m_base_CircularApertureFlux_6_0_magErr</th><th>HSC_G_m_base_CircularApertureFlux_6_0_mag</th><th>HSC_G_m_base_CircularApertureFlux_6_0_fluxErr</th><th>HSC_G_m_base_CircularApertureFlux_6_0_flux</th><th>HSC_G_m_base_CircularApertureFlux_6_0_flag</th></tr></thead>\n",
       "<thead><tr><th></th><th>mag</th><th>mag</th><th>nJy</th><th>nJy</th><th></th><th>mag</th><th>mag</th><th>nJy</th><th>nJy</th><th></th><th>mag</th><th>mag</th><th>nJy</th><th>nJy</th><th></th><th>mag</th><th>mag</th><th>nJy</th><th>nJy</th><th></th><th>mag</th><th>mag</th><th>nJy</th><th>nJy</th><th></th><th>mag</th><th>mag</th><th>nJy</th><th>nJy</th><th></th><th>mag</th><th>mag</th><th>nJy</th><th>nJy</th><th></th><th></th><th></th><th></th><th></th><th></th><th>deg</th><th>rad</th><th>mag</th><th>mag</th><th>nJy</th><th>nJy</th><th></th><th></th><th></th><th>mag</th><th>mag</th><th>nJy</th><th>nJy</th><th></th><th>mag</th><th>mag</th><th>nJy</th><th>nJy</th><th></th><th>mag</th><th>mag</th><th>nJy</th><th>nJy</th><th></th><th>mag</th><th>mag</th><th>nJy</th><th>nJy</th><th></th><th>mag</th><th>mag</th><th>nJy</th><th>nJy</th><th></th><th>mag</th><th>mag</th><th>nJy</th><th>nJy</th><th></th><th>mag</th><th>mag</th><th>nJy</th><th>nJy</th><th></th><th>mag</th><th>mag</th><th>nJy</th><th>nJy</th><th></th><th>mag</th><th>mag</th><th>nJy</th><th>nJy</th><th></th><th>mag</th><th>mag</th><th>nJy</th><th>nJy</th><th></th><th>mag</th><th>mag</th><th>nJy</th><th>nJy</th><th></th><th>mag</th><th>mag</th><th>nJy</th><th>nJy</th><th></th><th>mag</th><th>mag</th><th>nJy</th><th>nJy</th><th></th><th>mag</th><th>mag</th><th>nJy</th><th>nJy</th><th></th><th>mag</th><th>mag</th><th>nJy</th><th>nJy</th><th></th><th>mag</th><th>mag</th><th>nJy</th><th>nJy</th><th></th><th>mag</th><th>mag</th><th>nJy</th><th>nJy</th><th></th><th>mag</th><th>mag</th><th>nJy</th><th>nJy</th><th></th><th>mag</th><th>mag</th><th>nJy</th><th>nJy</th><th></th><th>mag</th><th>mag</th><th>nJy</th><th>nJy</th><th></th><th>mag</th><th>mag</th><th>nJy</th><th>nJy</th><th></th><th>mag</th><th>mag</th><th>nJy</th><th>nJy</th><th></th></tr></thead>\n",
       "<thead><tr><th>int64</th><th>float64</th><th>float64</th><th>float64</th><th>float64</th><th>int64</th><th>float64</th><th>float64</th><th>float64</th><th>float64</th><th>int64</th><th>float64</th><th>float64</th><th>float64</th><th>float64</th><th>int64</th><th>float64</th><th>float64</th><th>float64</th><th>float64</th><th>int64</th><th>float64</th><th>float64</th><th>float64</th><th>float64</th><th>int64</th><th>float64</th><th>float64</th><th>float64</th><th>float64</th><th>int64</th><th>float64</th><th>float64</th><th>float64</th><th>float64</th><th>int64</th><th>int64</th><th>int64</th><th>int64</th><th>int64</th><th>int32</th><th>float64</th><th>float64</th><th>float64</th><th>float64</th><th>float64</th><th>float64</th><th>int64</th><th>float64</th><th>int64</th><th>float64</th><th>float64</th><th>float64</th><th>float64</th><th>int64</th><th>float64</th><th>float64</th><th>float64</th><th>float64</th><th>int64</th><th>float64</th><th>float64</th><th>float64</th><th>float64</th><th>int64</th><th>float64</th><th>float64</th><th>float64</th><th>float64</th><th>int64</th><th>float64</th><th>float64</th><th>float64</th><th>float64</th><th>int64</th><th>float64</th><th>float64</th><th>float64</th><th>float64</th><th>int64</th><th>float64</th><th>float64</th><th>float64</th><th>float64</th><th>int64</th><th>float64</th><th>float64</th><th>float64</th><th>float64</th><th>int64</th><th>float64</th><th>float64</th><th>float64</th><th>float64</th><th>int64</th><th>float64</th><th>float64</th><th>float64</th><th>float64</th><th>int64</th><th>float64</th><th>float64</th><th>float64</th><th>float64</th><th>int64</th><th>float64</th><th>float64</th><th>float64</th><th>float64</th><th>int64</th><th>float64</th><th>float64</th><th>float64</th><th>float64</th><th>int64</th><th>float64</th><th>float64</th><th>float64</th><th>float64</th><th>int64</th><th>float64</th><th>float64</th><th>float64</th><th>float64</th><th>int64</th><th>float64</th><th>float64</th><th>float64</th><th>float64</th><th>int64</th><th>float64</th><th>float64</th><th>float64</th><th>float64</th><th>int64</th><th>float64</th><th>float64</th><th>float64</th><th>float64</th><th>int64</th><th>float64</th><th>float64</th><th>float64</th><th>float64</th><th>int64</th><th>float64</th><th>float64</th><th>float64</th><th>float64</th><th>int64</th><th>float64</th><th>float64</th><th>float64</th><th>float64</th><th>int64</th><th>float64</th><th>float64</th><th>float64</th><th>float64</th><th>int64</th></tr></thead>\n",
       "<tr><td>149940984795365508</td><td>1e+20</td><td>1e+20</td><td>1e+20</td><td>1e+20</td><td>1</td><td>1e+20</td><td>1e+20</td><td>1e+20</td><td>1e+20</td><td>1</td><td>1e+20</td><td>27.18675703846181</td><td>1e+20</td><td>48.45037966650107</td><td>1</td><td>1e+20</td><td>1e+20</td><td>1e+20</td><td>1e+20</td><td>1</td><td>1e+20</td><td>1e+20</td><td>1e+20</td><td>1e+20</td><td>1</td><td>1e+20</td><td>26.961512523800923</td><td>1e+20</td><td>59.62041442034508</td><td>1</td><td>1e+20</td><td>1e+20</td><td>1e+20</td><td>1e+20</td><td>1</td><td>0</td><td>1</td><td>0</td><td>1</td><td>42</td><td>33.94082587947533</td><td>-0.09897291477955396</td><td>1e+20</td><td>1e+20</td><td>1e+20</td><td>1e+20</td><td>1</td><td>1e+20</td><td>1</td><td>1e+20</td><td>26.110257449040954</td><td>1e+20</td><td>130.58612064837502</td><td>1</td><td>1e+20</td><td>1e+20</td><td>1e+20</td><td>1e+20</td><td>1</td><td>1e+20</td><td>1e+20</td><td>1e+20</td><td>1e+20</td><td>1</td><td>1e+20</td><td>26.54704125043186</td><td>1e+20</td><td>87.33402976488259</td><td>1</td><td>1e+20</td><td>1e+20</td><td>1e+20</td><td>1e+20</td><td>1</td><td>1e+20</td><td>1e+20</td><td>1e+20</td><td>1e+20</td><td>1</td><td>1e+20</td><td>26.27611129839359</td><td>1e+20</td><td>112.08706069785153</td><td>1</td><td>0.008255169055344392</td><td>20.95934143079446</td><td>114.0945971310669</td><td>15005.947672542778</td><td>0</td><td>0.00985861886379016</td><td>21.914915090440324</td><td>56.510053814539404</td><td>6223.489538136749</td><td>0</td><td>0.009863069681209025</td><td>21.59080458061823</td><td>76.20192615686764</td><td>8388.38138378385</td><td>0</td><td>0.01824201411699794</td><td>20.724812992311527</td><td>312.9127580938468</td><td>18624.07891004979</td><td>0</td><td>0.021172890013666405</td><td>21.641942883763576</td><td>156.0553521475145</td><td>8002.447736868756</td><td>0</td><td>0.021639224106723955</td><td>21.574611264057676</td><td>169.6964898597365</td><td>8514.428334047156</td><td>0</td><td>0.006589304684646784</td><td>21.22631041886899</td><td>71.21821787843209</td><td>11734.803790319998</td><td>0</td><td>0.007820527687548052</td><td>22.16545582594224</td><td>35.590116332810894</td><td>4941.03203491139</td><td>0</td><td>0.007780693043998768</td><td>22.051113416722764</td><td>39.34128993874052</td><td>5489.7761146512175</td><td>0</td><td>0.0044832111497577366</td><td>21.024868061888693</td><td>58.33344817539366</td><td>14127.09205896524</td><td>0</td><td>0.005514603482639197</td><td>22.04626379542929</td><td>28.008151866987717</td><td>5514.351957685832</td><td>0</td><td>0.005369505103541139</td><td>21.700158280189633</td><td>37.5099622821001</td><td>7584.669965567137</td><td>0</td><td>0.005998019616362564</td><td>21.674181108879402</td><td>42.91519776859144</td><td>7768.328036908258</td><td>0</td><td>0.007271379532172316</td><td>22.713835861847492</td><td>19.96908422204233</td><td>2981.7117398159603</td><td>0</td><td>0.007204360487258016</td><td>22.627482139924663</td><td>21.422899957962713</td><td>3228.547230029594</td><td>0</td></tr>\n",
       "<tr><td>149940984795365517</td><td>1e+20</td><td>1e+20</td><td>1e+20</td><td>1e+20</td><td>1</td><td>1e+20</td><td>1e+20</td><td>1e+20</td><td>1e+20</td><td>1</td><td>1e+20</td><td>27.18675857568718</td><td>1e+20</td><td>48.45031106871497</td><td>1</td><td>1e+20</td><td>1e+20</td><td>1e+20</td><td>1e+20</td><td>1</td><td>1e+20</td><td>1e+20</td><td>1e+20</td><td>1e+20</td><td>1</td><td>1e+20</td><td>26.9615143976347</td><td>1e+20</td><td>59.62031152366591</td><td>1</td><td>1e+20</td><td>1e+20</td><td>1e+20</td><td>1e+20</td><td>1</td><td>0</td><td>1</td><td>0</td><td>1</td><td>5</td><td>34.115553186211756</td><td>-0.09898610829559232</td><td>1e+20</td><td>1e+20</td><td>1e+20</td><td>1e+20</td><td>1</td><td>1e+20</td><td>1</td><td>1e+20</td><td>26.110260642975895</td><td>1e+20</td><td>130.5857365007728</td><td>1</td><td>1e+20</td><td>1e+20</td><td>1e+20</td><td>1e+20</td><td>1</td><td>1e+20</td><td>1e+20</td><td>1e+20</td><td>1e+20</td><td>1</td><td>1e+20</td><td>26.54704329717136</td><td>1e+20</td><td>87.33386513019592</td><td>1</td><td>1e+20</td><td>1e+20</td><td>1e+20</td><td>1e+20</td><td>1</td><td>1e+20</td><td>1e+20</td><td>1e+20</td><td>1e+20</td><td>1</td><td>1e+20</td><td>26.276113956298637</td><td>1e+20</td><td>112.08678630670708</td><td>1</td><td>0.07724413268297059</td><td>23.9453089351187</td><td>68.2366358049492</td><td>959.1276827251063</td><td>0</td><td>0.07976053724293175</td><td>24.323564000751684</td><td>49.73225482911096</td><td>676.9777571553172</td><td>0</td><td>0.09960732390742902</td><td>24.14635280951348</td><td>73.11825673768351</td><td>797.0010181448322</td><td>0</td><td>0.20827322306710136</td><td>24.224315002511144</td><td>142.29286274528593</td><td>741.7780859494446</td><td>0</td><td>0.20817931416255223</td><td>24.239298853280257</td><td>140.2793394351018</td><td>731.6113909632719</td><td>0</td><td>0.3685761912278088</td><td>24.747161764819666</td><td>155.57444198769826</td><td>458.2846321093106</td><td>0</td><td>0.047174713722089326</td><td>24.298455754122546</td><td>30.102506006577332</td><td>692.8156642948791</td><td>0</td><td>0.046954518700210335</td><td>24.30262433275418</td><td>29.847182437265342</td><td>690.1607657627806</td><td>0</td><td>0.0570244463798675</td><td>24.43763337490161</td><td>32.00983295054347</td><td>609.4620246052011</td><td>0</td><td>0.03852548175408687</td><td>24.139458791828755</td><td>28.4603503172249</td><td>802.0777763858229</td><td>0</td><td>0.038800680527725465</td><td>24.349596388024466</td><td>23.619813688128684</td><td>660.9391000891881</td><td>0</td><td>0.05047465424803473</td><td>24.267061747219515</td><td>33.15311452284161</td><td>713.1408282869651</td><td>0</td><td>0.031568973086524434</td><td>24.359994938898588</td><td>19.034354758183806</td><td>654.639225625998</td><td>0</td><td>0.03155804120810319</td><td>24.49988796777424</td><td>16.72748048362974</td><td>575.4993174544196</td><td>0</td><td>0.037919384403130744</td><td>24.62757179288728</td><td>17.869328844152577</td><td>511.6480023663926</td><td>0</td></tr>\n",
       "<tr><td>149940984795365526</td><td>1e+20</td><td>1e+20</td><td>1e+20</td><td>1e+20</td><td>1</td><td>1e+20</td><td>1e+20</td><td>1e+20</td><td>1e+20</td><td>1</td><td>1e+20</td><td>27.18675703846181</td><td>1e+20</td><td>48.45037966650107</td><td>1</td><td>1e+20</td><td>1e+20</td><td>1e+20</td><td>1e+20</td><td>1</td><td>1e+20</td><td>1e+20</td><td>1e+20</td><td>1e+20</td><td>1</td><td>1e+20</td><td>26.961512523800923</td><td>1e+20</td><td>59.62041442034508</td><td>1</td><td>1e+20</td><td>1e+20</td><td>1e+20</td><td>1e+20</td><td>1</td><td>0</td><td>1</td><td>0</td><td>1</td><td>5</td><td>34.041506493551516</td><td>-0.09901186760214015</td><td>1e+20</td><td>1e+20</td><td>1e+20</td><td>1e+20</td><td>1</td><td>1e+20</td><td>1</td><td>1e+20</td><td>26.110257449040954</td><td>1e+20</td><td>130.58612064837502</td><td>1</td><td>1e+20</td><td>1e+20</td><td>1e+20</td><td>1e+20</td><td>1</td><td>1e+20</td><td>1e+20</td><td>1e+20</td><td>1e+20</td><td>1</td><td>1e+20</td><td>26.54704125043186</td><td>1e+20</td><td>87.33402976488259</td><td>1</td><td>1e+20</td><td>1e+20</td><td>1e+20</td><td>1e+20</td><td>1</td><td>1e+20</td><td>1e+20</td><td>1e+20</td><td>1e+20</td><td>1</td><td>1e+20</td><td>26.27611129839359</td><td>1e+20</td><td>112.08706069785153</td><td>1</td><td>0.03254184214712046</td><td>22.761833310281702</td><td>85.50361763526932</td><td>2852.7694555430153</td><td>0</td><td>0.03409687163097866</td><td>23.22170613782507</td><td>58.65536740172611</td><td>1867.7448383148317</td><td>0</td><td>0.042709873022327115</td><td>23.05326227906707</td><td>85.80232351840957</td><td>2181.1979878190537</td><td>0</td><td>0.06179551100976269</td><td>22.347925303120874</td><td>237.71822932947524</td><td>4176.667267517726</td><td>0</td><td>0.06423702392400304</td><td>22.865206968288913</td><td>153.4540322700992</td><td>2593.6848942267497</td><td>0</td><td>0.07310342460312069</td><td>22.88659199679172</td><td>171.22871744938396</td><td>2543.0986145779</td><td>0</td><td>0.030135169308616157</td><td>23.432501586811384</td><td>42.692214334098026</td><td>1538.1523922804456</td><td>0</td><td>0.030894355314565643</td><td>23.847730857783</td><td>29.858121018653875</td><td>1049.3192903985985</td><td>0</td><td>0.03606172610882982</td><td>23.92347017563168</td><td>32.50379874853654</td><td>978.6151385808763</td><td>0</td><td>0.019365297828455117</td><td>23.08002630099611</td><td>37.95677803876589</td><td>2128.087494327168</td><td>0</td><td>0.020292594534544368</td><td>23.47572195398634</td><td>27.626411490895563</td><td>1478.1251905541415</td><td>0</td><td>0.023787318790066663</td><td>23.300210641353395</td><td>38.06597134773956</td><td>1737.463714438689</td><td>0</td><td>0.0285448919694596</td><td>23.88820956587636</td><td>26.577875175257322</td><td>1010.9185683446638</td><td>0</td><td>0.030365351205629512</td><td>24.390313167220047</td><td>17.80445653139282</td><td>636.6118715792003</td><td>0</td><td>0.0327863234273612</td><td>24.373300933971223</td><td>19.52756199215923</td><td>646.6654028018438</td><td>0</td></tr>\n",
       "<tr><td>149940984795365528</td><td>1e+20</td><td>1e+20</td><td>1e+20</td><td>1e+20</td><td>1</td><td>1e+20</td><td>1e+20</td><td>1e+20</td><td>1e+20</td><td>1</td><td>1e+20</td><td>27.18675703846181</td><td>1e+20</td><td>48.45037966650107</td><td>1</td><td>1e+20</td><td>1e+20</td><td>1e+20</td><td>1e+20</td><td>1</td><td>1e+20</td><td>1e+20</td><td>1e+20</td><td>1e+20</td><td>1</td><td>1e+20</td><td>26.961512523800923</td><td>1e+20</td><td>59.62041442034508</td><td>1</td><td>1e+20</td><td>1e+20</td><td>1e+20</td><td>1e+20</td><td>1</td><td>0</td><td>1</td><td>0</td><td>1</td><td>10</td><td>33.9518918520635</td><td>-0.09901128174937149</td><td>1e+20</td><td>1e+20</td><td>1e+20</td><td>1e+20</td><td>1</td><td>1e+20</td><td>1</td><td>1e+20</td><td>26.110257449040954</td><td>1e+20</td><td>130.58612064837502</td><td>1</td><td>1e+20</td><td>1e+20</td><td>1e+20</td><td>1e+20</td><td>1</td><td>1e+20</td><td>1e+20</td><td>1e+20</td><td>1e+20</td><td>1</td><td>1e+20</td><td>26.54704125043186</td><td>1e+20</td><td>87.33402976488259</td><td>1</td><td>1e+20</td><td>1e+20</td><td>1e+20</td><td>1e+20</td><td>1</td><td>1e+20</td><td>1e+20</td><td>1e+20</td><td>1e+20</td><td>1</td><td>1e+20</td><td>26.27611129839359</td><td>1e+20</td><td>112.08706069785153</td><td>1</td><td>0.0247355393346742</td><td>22.27400478452553</td><td>101.8580013885488</td><td>4470.93222248141</td><td>0</td><td>0.02908158825167941</td><td>23.1477442692961</td><td>53.55451536259678</td><td>1999.4119906463134</td><td>0</td><td>0.030713719690781877</td><td>22.769904145811225</td><td>80.1025677694968</td><td>2831.6419761927023</td><td>0</td><td>0.056224869094839446</td><td>22.168260632933222</td><td>255.2112882896781</td><td>4928.284227601707</td><td>0</td><td>0.06710954500906148</td><td>22.970508393590855</td><td>145.49786377350512</td><td>2353.946795385523</td><td>0</td><td>0.0653880896228177</td><td>22.842082619122415</td><td>159.56633923518837</td><td>2649.5184760361267</td><td>0</td><td>0.01739130510261736</td><td>22.36293284699577</td><td>65.98340383289647</td><td>4119.332622355654</td><td>0</td><td>0.019218036201502513</td><td>23.033452191192353</td><td>39.319121933176405</td><td>2221.3609015270486</td><td>0</td><td>0.020164956852633937</td><td>23.054925395099943</td><td>40.448537093995554</td><td>2177.8594158864666</td><td>0</td><td>0.010902761109428375</td><td>22.38466818769514</td><td>40.54570920745587</td><td>4037.687700601002</td><td>0</td><td>0.012543012295113348</td><td>23.17248174621238</td><td>22.57796677050353</td><td>1954.372313109507</td><td>0</td><td>0.013173184949681144</td><td>22.86001603303209</td><td>31.619868256070404</td><td>2606.115065296256</td><td>0</td><td>0.014033262738407217</td><td>22.86771852491111</td><td>33.446211092773055</td><td>2587.692040855233</td><td>0</td><td>0.016355866847925622</td><td>23.5649374283097</td><td>20.510406840522506</td><td>1361.5231456777478</td><td>0</td><td>0.016355167821062697</td><td>23.497672582470276</td><td>21.82034695595562</td><td>1448.541583288107</td><td>0</td></tr>\n",
       "<tr><td>149940984795365543</td><td>1e+20</td><td>1e+20</td><td>1e+20</td><td>1e+20</td><td>1</td><td>1e+20</td><td>1e+20</td><td>1e+20</td><td>1e+20</td><td>1</td><td>1e+20</td><td>27.18675703846181</td><td>1e+20</td><td>48.45037966650107</td><td>1</td><td>1e+20</td><td>1e+20</td><td>1e+20</td><td>1e+20</td><td>1</td><td>1e+20</td><td>1e+20</td><td>1e+20</td><td>1e+20</td><td>1</td><td>1e+20</td><td>26.961512523800923</td><td>1e+20</td><td>59.62041442034508</td><td>1</td><td>1e+20</td><td>1e+20</td><td>1e+20</td><td>1e+20</td><td>1</td><td>0</td><td>1</td><td>0</td><td>1</td><td>4</td><td>34.06570411702675</td><td>-0.09900465465985166</td><td>1e+20</td><td>1e+20</td><td>1e+20</td><td>1e+20</td><td>1</td><td>1e+20</td><td>1</td><td>1e+20</td><td>26.110257449040954</td><td>1e+20</td><td>130.58612064837502</td><td>1</td><td>1e+20</td><td>1e+20</td><td>1e+20</td><td>1e+20</td><td>1</td><td>1e+20</td><td>1e+20</td><td>1e+20</td><td>1e+20</td><td>1</td><td>1e+20</td><td>26.54704125043186</td><td>1e+20</td><td>87.33402976488259</td><td>1</td><td>1e+20</td><td>1e+20</td><td>1e+20</td><td>1e+20</td><td>1</td><td>1e+20</td><td>1e+20</td><td>1e+20</td><td>1e+20</td><td>1</td><td>1e+20</td><td>26.27611129839359</td><td>1e+20</td><td>112.08706069785153</td><td>1</td><td>0.10539788179061915</td><td>24.208926512210077</td><td>73.03599630461284</td><td>752.3664051999662</td><td>0</td><td>0.10537332881336872</td><td>24.37281069443751</td><td>62.78878830871202</td><td>646.9574558131792</td><td>0</td><td>0.15248054346561254</td><td>24.38249851774083</td><td>90.0514487442516</td><td>641.2104519722186</td><td>0</td><td>0.14645339388240053</td><td>22.753448833940286</td><td>387.78909026997997</td><td>2874.8849306586953</td><td>0</td><td>0.17525858255837096</td><td>23.876715217238242</td><td>164.91831468320078</td><td>1021.6776974081084</td><td>0</td><td>0.18836446705013388</td><td>23.840878884305788</td><td>183.1990036863089</td><td>1055.9623802344001</td><td>0</td><td>0.0921359026057577</td><td>24.716461023017878</td><td>40.00554263640728</td><td>471.4282359309955</td><td>0</td><td>0.09301492059071559</td><td>24.912229399036207</td><td>33.7238027183115</td><td>393.6481732270188</td><td>0</td><td>0.10835775427689424</td><td>24.98569740326242</td><td>36.716114402352446</td><td>367.89258849724865</td><td>0</td><td>0.062084402358809465</td><td>24.384949240268817</td><td>36.582930228616135</td><td>639.7647447066573</td><td>0</td><td>0.06363954930217006</td><td>24.683605792425716</td><td>28.481342627702602</td><td>485.9120655331746</td><td>0</td><td>0.08114130928766211</td><td>24.56992923154612</td><td>40.32236518600507</td><td>539.5457890470758</td><td>0</td><td>0.052365284250588964</td><td>23.166805036255283</td><td>94.7539079863253</td><td>1964.6173971053495</td><td>0</td><td>0.06525413504289043</td><td>25.08788126991334</td><td>20.124783150855006</td><td>334.847832484913</td><td>0</td><td>0.07281630064086614</td><td>25.079709728521063</td><td>22.626657338494645</td><td>337.37749444624404</td><td>0</td></tr>\n",
       "</table></div>"
      ],
      "text/plain": [
       "<Table length=5>\n",
       "        id         VISTA_Z_m_slot_ModelFlux_magErr VISTA_Z_m_slot_ModelFlux_mag ... HSC_G_m_base_CircularApertureFlux_6_0_fluxErr HSC_G_m_base_CircularApertureFlux_6_0_flux HSC_G_m_base_CircularApertureFlux_6_0_flag\n",
       "                                 mag                           mag              ...                      nJy                                         nJy                                                               \n",
       "      int64                    float64                       float64            ...                    float64                                     float64                                     int64                   \n",
       "------------------ ------------------------------- ---------------------------- ... --------------------------------------------- ------------------------------------------ ------------------------------------------\n",
       "149940984795365508                           1e+20                        1e+20 ...                            21.422899957962713                          3228.547230029594                                          0\n",
       "149940984795365517                           1e+20                        1e+20 ...                            17.869328844152577                          511.6480023663926                                          0\n",
       "149940984795365526                           1e+20                        1e+20 ...                             19.52756199215923                          646.6654028018438                                          0\n",
       "149940984795365528                           1e+20                        1e+20 ...                             21.82034695595562                          1448.541583288107                                          0\n",
       "149940984795365543                           1e+20                        1e+20 ...                            22.626657338494645                         337.37749444624404                                          0"
      ]
     },
     "execution_count": 51,
     "metadata": {},
     "output_type": "execute_result"
    }
   ],
   "source": [
    "t[:5]"
   ]
  },
  {
   "cell_type": "code",
   "execution_count": 52,
   "id": "dc415333-e1a2-43a5-91b6-5259a3e2d726",
   "metadata": {},
   "outputs": [],
   "source": [
    "#convert positions to degrees\n",
    "t['VISTA_Ks_m_coord_ra']=t['VISTA_Ks_m_coord_ra'].to(u.deg)\n",
    "t['VISTA_Ks_m_coord_dec']=t['VISTA_Ks_m_coord_dec'].to(u.deg)\n",
    "#remove 1e+20 values\n"
   ]
  },
  {
   "cell_type": "code",
   "execution_count": 87,
   "id": "eb11e8db-0f5a-4914-bf6c-c5ae0c784bc2",
   "metadata": {},
   "outputs": [],
   "source": [
    "rd_start=\"\"\"\n",
    "<resource schema=\"lsst_ir_fusion\">\n",
    "    <meta name=\"title\">\n",
    "        LSST IR fusion catalogue\n",
    "    </meta>\n",
    "    <meta name=\"creationDate\">\n",
    "        {time_now}\n",
    "    </meta>\n",
    "    <meta name=\"description\">\n",
    "        A first gen 2 SXDS run with reduced column set to test the Soton VO.\n",
    "    </meta>\n",
    "    <meta name=\"creator.name\">\n",
    "        Shirley, R.; et al\n",
    "    </meta>\n",
    "    <meta name=\"subject\">\n",
    "        Catalogs\n",
    "    </meta>\n",
    "    <meta name=\"subject\">\n",
    "        Galaxies\n",
    "    </meta>\n",
    "    <meta name=\"coverage\">\n",
    "        <meta name=\"profile\">\n",
    "            AllSky ICRS\n",
    "        </meta>\n",
    "        <meta name=\"waveband\">\n",
    "            Optical\n",
    "        </meta>\n",
    "        <meta name=\"waveband\">\n",
    "            Infrared\n",
    "        </meta>\n",
    "    </meta>\n",
    "    <meta name=\"_longdoc\" format=\"rst\">\n",
    "        <![CDATA[\n",
    "        This resource contains the A list catalogue from the Herschel Extragalactic\n",
    "        Legacy Project (HELP). These are all objects which have an XID+ flux.\n",
    "\n",
    "        History\n",
    "        -------\n",
    "\n",
    "        ========== ============================================\n",
    "        {date_now} First SXDS test VO ingestion\n",
    "        ========== ============================================\n",
    "        ]]>\n",
    "    </meta>\n",
    "    <meta name=\"source\">\n",
    "    </meta>\n",
    "    <meta name=\"_intro\" format=\"rst\">\n",
    "        <![CDATA[\n",
    "        For advanced queries on this catalogue use ADQL_\n",
    "        possibly via TAP_\n",
    "\n",
    "        .. _ADQL: /adql\n",
    "        .. _TAP: /tap\n",
    "        ]]>\n",
    "    </meta>\n",
    "    <table id=\"main\" onDisk=\"True\" adql=\"True\" mixin=\"//scs#q3cindex\" primary=\"help_id\">\n",
    "        <stc>\n",
    "            Position ICRS Epoch J2000.0 \"ra\" \"dec\"\n",
    "        </stc>\n",
    "        <index columns=\"id\">\n",
    "            <FEED source=\"%#fastindex\" />\n",
    "        </index>\n",
    "        <index columns=\"ra\">\n",
    "            <FEED source=\"%#fastindex\" />\n",
    "        </index>\n",
    "        <index columns=\"dec\">\n",
    "            <FEED source=\"%#fastindex\" />\n",
    "        </index>\n",
    "\"\"\".format(time_now=time_now,date_now=time_now[0:10])\n",
    "\n",
    "col_template=\"\"\"\n",
    "        <column \n",
    "            name=\"{name}\" \n",
    "            tablehead=\"{name}\" \n",
    "            type=\"{dtype}\" \n",
    "            ucd=\"{ucd}\" \n",
    "            unit=\"{unit}\"\n",
    "            description=\"{description}\" \n",
    "            verbLevel=\"1\" \n",
    "            />\n",
    "\"\"\"\n",
    "\n",
    "rd_end=\"\"\"\n",
    "<meta name=\"note\" tag=\"1\">\n",
    "            <![CDATA[\n",
    "            This table is a prototype and should be treated with caution\n",
    "            ]]>\n",
    "        </meta>\n",
    "\n",
    "    </table>\n",
    "    <data id=\"import\">\n",
    "        <sources>\n",
    "            <pattern>data/main/*.csv</pattern>\n",
    "        </sources>\n",
    "        <csvGrammar />\n",
    "        <make table=\"main\">\n",
    "            <rowmaker idmaps=\"*\">\n",
    "                <simplemaps>\n",
    "                </simplemaps>\n",
    "            </rowmaker>\n",
    "        </make>\n",
    "    </data>\n",
    "    <service id=\"cone\" allowed=\"scs.xml,form,static\">\n",
    "        <meta name=\"title\">\n",
    "            LSST IR fusion SXDS prototype p2021p1\n",
    "        </meta>\n",
    "        <meta name=\"shortName\">\n",
    "            SXDS p2021p1\n",
    "        </meta>\n",
    "        <meta name=\"testQuery\">\n",
    "            <meta name=\"ra\">\n",
    "                35.0\n",
    "            </meta>\n",
    "            <meta name=\"dec\">\n",
    "                -5.0\n",
    "            </meta>\n",
    "            <meta name=\"sr\">\n",
    "                1.0\n",
    "            </meta>\n",
    "        </meta>\n",
    "        <!--\n",
    "        this is to allow access to the raw data.  Decide for yourself\n",
    "        whether or not you want this\n",
    "        -->\n",
    "        <property name=\"staticData\">\n",
    "            data/files\n",
    "        </property>\n",
    "        <dbCore queriedTable=\"main\">\n",
    "            <FEED source=\"//scs#coreDescs\" />\n",
    "            <condDesc buildFrom=\"field\" />\n",
    "            <condDesc buildFrom=\"help_id\" />\n",
    "        </dbCore>\n",
    "        <publish render=\"scs.xml\" sets=\"ivo_managed\" />\n",
    "        <publish render=\"form\" sets=\"ivo_managed,local\" />\n",
    "        <outputTable verbLevel=\"20\" />\n",
    "    </service>\n",
    "</resource>\n",
    "\"\"\""
   ]
  },
  {
   "cell_type": "code",
   "execution_count": 92,
   "id": "5034b7f2-4fe1-44db-9bd1-c30d3cb9832c",
   "metadata": {},
   "outputs": [],
   "source": [
    "rd_file = open('descriptors/sxds_p2021p1.rd', 'w+')\n",
    "rd_file.write(rd_start)\n",
    "\n",
    "for c in t.colnames:\n",
    "    \n",
    "    #all big integers except for flags to booleans\n",
    "    if t[c].dtype in [np.dtype('>i4'),np.dtype('>i8')]:\n",
    "        dtype='bigint'\n",
    "    # all singles except for coords\n",
    "    elif t[c].dtype in [np.dtype('>f8'),np.dtype('float64')]:\n",
    "        dtype='single precision'\n",
    "    elif 'coord' in c:\n",
    "        dtype='double precision'\n",
    "    elif 'flag' in c:\n",
    "        dtype='boolean'\n",
    "        \n",
    "    # UCDs currently not set fully\n",
    "    description=t[c].description\n",
    "    if not description==None:\n",
    "        description=description.replace('\"','')\n",
    "    \n",
    "    rd_file.write(col_template.format(\n",
    "        name=t[c].name,\n",
    "        dtype=dtype,\n",
    "        ucd=ucd,\n",
    "        unit=t[c].unit,\n",
    "        description=description\n",
    "    ))\n",
    "rd_file.write(rd_end)\n",
    "rd_file.close()"
   ]
  },
  {
   "cell_type": "markdown",
   "id": "e1e1394e-1dd1-4a47-8424-6bf0b96f6f10",
   "metadata": {},
   "source": [
    "## Save the catalogue as a csv file\n",
    "\n",
    "We need to make a couple of changes to the file and save it as a csv for ingestion"
   ]
  },
  {
   "cell_type": "code",
   "execution_count": 72,
   "id": "d050698a-9f3f-4f18-aa04-5e48b076dc68",
   "metadata": {},
   "outputs": [
    {
     "name": "stdout",
     "output_type": "stream",
     "text": [
      "mkdir: data: File exists\n"
     ]
    }
   ],
   "source": [
    "!mkdir data"
   ]
  },
  {
   "cell_type": "code",
   "execution_count": 76,
   "id": "162b8007-690a-4d67-b3c0-2af3ddef6afe",
   "metadata": {},
   "outputs": [
    {
     "name": "stdout",
     "output_type": "stream",
     "text": [
      "data/sxds_p2021p1_20220728T160313.csv\n"
     ]
    }
   ],
   "source": [
    "filename='data/sxds_p2021p1_{}.csv'.format(time_now.replace('-','').replace(':','')[:-4])\n",
    "print(filename)\n",
    "t.write(filename,overwrite=True)"
   ]
  },
  {
   "cell_type": "code",
   "execution_count": null,
   "id": "bfe119cd-0646-480f-aa3a-59ab693b9144",
   "metadata": {},
   "outputs": [],
   "source": []
  }
 ],
 "metadata": {
  "kernelspec": {
   "display_name": "Python 3 (ipykernel)",
   "language": "python",
   "name": "python3"
  },
  "language_info": {
   "codemirror_mode": {
    "name": "ipython",
    "version": 3
   },
   "file_extension": ".py",
   "mimetype": "text/x-python",
   "name": "python",
   "nbconvert_exporter": "python",
   "pygments_lexer": "ipython3",
   "version": "3.8.12"
  }
 },
 "nbformat": 4,
 "nbformat_minor": 5
}
